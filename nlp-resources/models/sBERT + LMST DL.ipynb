{
 "cells": [
  {
   "cell_type": "code",
   "execution_count": 1,
   "metadata": {},
   "outputs": [],
   "source": [
    "import os\n",
    "import pickle\n",
    "import pandas as pd\n",
    "from sklearn.preprocessing import OneHotEncoder\n",
    "import torch\n",
    "from torch.utils.data import TensorDataset\n",
    "from torch.utils.data import DataLoader\n",
    "from tqdm import tqdm\n"
   ]
  },
  {
   "cell_type": "code",
   "execution_count": 2,
   "metadata": {},
   "outputs": [],
   "source": [
    "device = \"cuda\" if torch.cuda.is_available() else \"cpu\""
   ]
  },
  {
   "cell_type": "code",
   "execution_count": 3,
   "metadata": {},
   "outputs": [],
   "source": [
    "save_path = os.path.join('..', 'data', f'bert_embeds.pkl')\n",
    "X = []\n",
    "with open(save_path, 'rb') as f:\n",
    "    X = pickle.load(f)\n",
    "\n",
    "# list(map(lambda x: x.shape, bert_embeds))"
   ]
  },
  {
   "cell_type": "code",
   "execution_count": 4,
   "metadata": {},
   "outputs": [
    {
     "data": {
      "image/png": "[encoded data removed]",
      "text/plain": [
       "<Figure size 640x480 with 1 Axes>"
      ]
     },
     "metadata": {},
     "output_type": "display_data"
    }
   ],
   "source": [
    "import matplotlib.pyplot as plt\n",
    "\n",
    "seq_length = [p.shape[0] for p in X]\n",
    "\n",
    "plt.title('Liczba zdań')\n",
    "plt.xlabel('Liczba dokumentów')\n",
    "plt.ylabel('Liczba zdań')\n",
    "plt.hist(seq_length, bins = max(seq_length));"
   ]
  },
  {
   "cell_type": "code",
   "execution_count": 5,
   "metadata": {},
   "outputs": [
    {
     "data": {
      "text/plain": [
       "('median', 12)"
      ]
     },
     "execution_count": 5,
     "metadata": {},
     "output_type": "execute_result"
    }
   ],
   "source": [
    "'median', int(torch.tensor(seq_length).median().cpu())"
   ]
  },
  {
   "cell_type": "code",
   "execution_count": 6,
   "metadata": {},
   "outputs": [
    {
     "data": {
      "text/plain": [
       "('avg', tensor(15.8155))"
      ]
     },
     "execution_count": 6,
     "metadata": {},
     "output_type": "execute_result"
    }
   ],
   "source": [
    "'avg', torch.tensor(seq_length).sum() / len(seq_length)"
   ]
  },
  {
   "cell_type": "code",
   "execution_count": 7,
   "metadata": {},
   "outputs": [
    {
     "data": {
      "text/plain": [
       "('max length', 190)"
      ]
     },
     "execution_count": 7,
     "metadata": {},
     "output_type": "execute_result"
    }
   ],
   "source": [
    "'max length',max(seq_length)"
   ]
  },
  {
   "cell_type": "code",
   "execution_count": 8,
   "metadata": {},
   "outputs": [],
   "source": [
    "sentence_limit = 20\n",
    "padder = torch.nn.functional.pad"
   ]
  },
  {
   "cell_type": "code",
   "execution_count": 9,
   "metadata": {},
   "outputs": [],
   "source": [
    "def get_to_same_length(tensor_list):\n",
    "    new_tensor_list = []\n",
    "    for t in tqdm(tensor_list):\n",
    "        t = t[:sentence_limit]\n",
    "\n",
    "        if t.shape[0] < sentence_limit:\n",
    "            p2d = (0, 0, 0, sentence_limit - t.shape[0]) \n",
    "            t = torch.nn.functional.pad(t, p2d)\n",
    "\n",
    "        new_tensor_list.append(t)\n",
    "    return new_tensor_list"
   ]
  },
  {
   "cell_type": "code",
   "execution_count": 10,
   "metadata": {},
   "outputs": [
    {
     "name": "stderr",
     "output_type": "stream",
     "text": [
      "100%|██████████| 28533/28533 [00:03<00:00, 8704.30it/s] \n"
     ]
    }
   ],
   "source": [
    "X = torch.stack(get_to_same_length(X))"
   ]
  },
  {
   "cell_type": "code",
   "execution_count": 11,
   "metadata": {},
   "outputs": [],
   "source": [
    "seq_length = (X.sum(dim=2) != 0).sum(dim=1)"
   ]
  },
  {
   "cell_type": "code",
   "execution_count": 12,
   "metadata": {},
   "outputs": [],
   "source": [
    "df = pd.read_csv(os.path.join('..', 'data', 'final_recipes.csv'), sep=';')\n",
    "enc = OneHotEncoder(handle_unknown='ignore')\n",
    "enc.fit([[d] for d in df['category']])\n",
    "y = enc.transform([[d] for d in df['category']]).toarray()\n",
    "y = torch.Tensor(y)\n",
    "y = torch.argmax(y, dim = 1)"
   ]
  },
  {
   "cell_type": "code",
   "execution_count": 13,
   "metadata": {},
   "outputs": [],
   "source": [
    "from sklearn.model_selection import train_test_split\n",
    "\n",
    "X_train, X_test, y_train, y_test, seq_len_train, seq_len_val = train_test_split( X, y, seq_length,test_size=0.33, random_state=42, stratify=y)"
   ]
  },
  {
   "cell_type": "code",
   "execution_count": 14,
   "metadata": {},
   "outputs": [],
   "source": [
    "train_dataset = TensorDataset(X_train.to(device), y_train.to(device), seq_len_train.to(device))\n",
    "val_dataset = TensorDataset(X_test.to(device), y_test.to(device), seq_len_val.to(device))"
   ]
  },
  {
   "cell_type": "code",
   "execution_count": 15,
   "metadata": {},
   "outputs": [],
   "source": [
    "\n",
    "batch_size = 32\n",
    "# batch_size = 64\n",
    "\n",
    "train_dataloader = DataLoader(train_dataset, batch_size=batch_size, shuffle=True)\n",
    "val_dataloader = DataLoader(val_dataset, batch_size=batch_size)"
   ]
  },
  {
   "cell_type": "code",
   "execution_count": 16,
   "metadata": {},
   "outputs": [],
   "source": [
    "import torch\n",
    "import torch.nn as nn\n",
    "import torch.nn.functional as F\n",
    "import torch.optim as optim\n",
    "import lightning as L\n",
    "\n",
    "# torch.manual_seed(1)"
   ]
  },
  {
   "cell_type": "code",
   "execution_count": 17,
   "metadata": {},
   "outputs": [],
   "source": [
    "class LSTMClassifier(L.LightningModule):\n",
    "\n",
    "    def __init__(self, embedding_dim, hidden_dim, layers, target_size, loss_f, do_std = False):\n",
    "        super(LSTMClassifier, self).__init__()\n",
    "        self.hidden_dim = hidden_dim\n",
    "\n",
    "        # self.batch_norm = nn.BatchNorm1d(20)\n",
    "        \n",
    "        self.lstm1 = nn.LSTM(embedding_dim, hidden_dim, layers, batch_first=True)\n",
    "        self.lstm2 = nn.LSTM(hidden_dim, hidden_dim // 2, layers, batch_first=True)\n",
    "        self.lstm3 = nn.LSTM(hidden_dim // 2, hidden_dim // 4, layers, batch_first=True)\n",
    "\n",
    "        self.hidden2class = nn.Linear(hidden_dim , target_size)\n",
    "\n",
    "        self.activate = nn.Softmax(dim=1)\n",
    "        \n",
    "        self.loss_f = loss_f\n",
    "\n",
    "        self.do_std = do_std\n",
    "        self.std_init = False\n",
    "        self.mean = torch.nn.parameter.Parameter(torch.zeros(embedding_dim), requires_grad=False)\n",
    "        self.std = torch.nn.parameter.Parameter(torch.zeros(embedding_dim), requires_grad=False)\n",
    "\n",
    "    def init_norm_scaler(self, train_dl):\n",
    "\n",
    "        dt = train_dl.dataset[:][0]\n",
    "\n",
    "        one_big_sequence = torch.concat(list(dt))\n",
    "        one_big_sequence = one_big_sequence[one_big_sequence.sum(dim=1) != 0]\n",
    "\n",
    "        m = one_big_sequence.mean(0, keepdim=True)\n",
    "        s = one_big_sequence.std(0, keepdim=True)\n",
    "\n",
    "        self.mean.data = m\n",
    "        self.std.data = s\n",
    "\n",
    "        self.std_init = True\n",
    "\n",
    "    def forward(self, embeds, seq_len):\n",
    "        if self.do_std and not self.std_init:\n",
    "            raise Exception('Normal scaler not initialized')\n",
    "        \n",
    "        if self.do_std:\n",
    "            \n",
    "            embeds -= self.mean\n",
    "            embeds /= self.std\n",
    "        \n",
    "        # embeds = self.batch_norm(embeds)\n",
    "\n",
    "        pack = torch.nn.utils.rnn.pack_padded_sequence(embeds, seq_len.cpu(), batch_first=True, enforce_sorted=False)\n",
    "        \n",
    "        out, _ = self.lstm1(pack)\n",
    "        # out, _ = self.lstm2(out)\n",
    "        # out, _ = self.lstm3(out)\n",
    "        \n",
    "        unpacked, unpacked_len = torch.nn.utils.rnn.pad_packed_sequence(out, batch_first=True)\n",
    "\n",
    "        indicies = (unpacked_len - 1).detach().cpu().numpy().tolist()\n",
    "\n",
    "        out = unpacked[range(unpacked.shape[0]), indicies,:]\n",
    "\n",
    "        pred = self.hidden2class(out)\n",
    "        pred = self.activate(pred)\n",
    "        return pred\n",
    "    \n",
    "    def training_step(self, batch, batch_idx):\n",
    "        # training_step defines the train loop. It is independent of forward\n",
    "        x_b, y_b, seq_len = batch\n",
    "\n",
    "        \n",
    "        pred = self.forward(x_b, seq_len)\n",
    "        \n",
    "        loss = self.loss_f(pred, y_b)\n",
    "\n",
    "        self.log(\"train/loss\", loss)\n",
    "        self.log(\"train/acc\", self.get_accuracy(pred, y_b))\n",
    "        \n",
    "        return loss\n",
    "    \n",
    "    def validation_step(self, batch, batch_idx):\n",
    "        x_b, y_b, seq_len = batch\n",
    "\n",
    "        pred = self.forward(x_b, seq_len)\n",
    "        \n",
    "        loss = self.loss_f(pred, y_b)\n",
    "\n",
    "        self.log(\"val/loss\", loss)\n",
    "        self.log(\"val/acc\", self.get_accuracy(pred, y_b))\n",
    "\n",
    "    def get_accuracy(self, preds, labels):\n",
    "        pr = torch.argmax(preds, dim=1)\n",
    "        return (pr.cpu() == labels.cpu()).float().sum() / preds.shape[0]\n",
    "\n",
    "    def configure_optimizers(self):\n",
    "        optimizer = torch.optim.Adam(self.parameters(), lr=5e-5) #5\n",
    "        return optimizer"
   ]
  },
  {
   "cell_type": "code",
   "execution_count": 18,
   "metadata": {},
   "outputs": [],
   "source": [
    "class_counts = pd.DataFrame(y_train).value_counts().sort_index()"
   ]
  },
  {
   "cell_type": "code",
   "execution_count": 19,
   "metadata": {},
   "outputs": [],
   "source": [
    "max_cnt = max(class_counts)"
   ]
  },
  {
   "cell_type": "code",
   "execution_count": 20,
   "metadata": {},
   "outputs": [],
   "source": [
    "weights = [max_cnt / class_counts[c] for c in range(torch.unique(y).shape[0])]\n",
    "class_weights = torch.FloatTensor(weights).cuda()\n",
    "\n",
    "# class_weights = class_weights.cpu().apply_(lambda x: max(1., x / 2)) # reduced weights\n",
    "# class_weights=None"
   ]
  },
  {
   "cell_type": "markdown",
   "metadata": {},
   "source": []
  },
  {
   "cell_type": "code",
   "execution_count": 21,
   "metadata": {},
   "outputs": [],
   "source": [
    "epochs = 5000\n",
    "# loss_f = torch.nn.CrossEntropyLoss(weight=class_weights)\n",
    "loss_f = torch.nn.NLLLoss(weight=class_weights)\n",
    "clf = LSTMClassifier(embedding_dim = 1024, \n",
    "                     hidden_dim = 128, \n",
    "                     layers = 3, \n",
    "                     target_size = 16, \n",
    "                     loss_f=loss_f,\n",
    "                     do_std=False\n",
    "                     ).to(device)\n",
    "\n",
    "if clf.do_std:\n",
    "    clf.init_norm_scaler(train_dl=train_dataloader)"
   ]
  },
  {
   "cell_type": "code",
   "execution_count": 22,
   "metadata": {},
   "outputs": [
    {
     "data": {
      "text/plain": [
       "tensor([[0.0687, 0.0600, 0.0696, 0.0594, 0.0650, 0.0654, 0.0664, 0.0607, 0.0635,\n",
       "         0.0651, 0.0579, 0.0599, 0.0587, 0.0595, 0.0585, 0.0616]],\n",
       "       device='cuda:0', grad_fn=<SoftmaxBackward0>)"
      ]
     },
     "execution_count": 22,
     "metadata": {},
     "output_type": "execute_result"
    }
   ],
   "source": [
    "x_b, y_b, seq_len = val_dataset[0:1]\n",
    "clf(x_b, seq_len)"
   ]
  },
  {
   "cell_type": "code",
   "execution_count": 23,
   "metadata": {},
   "outputs": [
    {
     "name": "stderr",
     "output_type": "stream",
     "text": [
      "GPU available: True (cuda), used: True\n",
      "TPU available: False, using: 0 TPU cores\n",
      "IPU available: False, using: 0 IPUs\n",
      "HPU available: False, using: 0 HPUs\n",
      "You are using a CUDA device ('NVIDIA GeForce RTX 4060 Laptop GPU') that has Tensor Cores. To properly utilize them, you should set `torch.set_float32_matmul_precision('medium' | 'high')` which will trade-off precision for performance. For more details, read https://pytorch.org/docs/stable/generated/torch.set_float32_matmul_precision.html#torch.set_float32_matmul_precision\n"
     ]
    },
    {
     "name": "stdout",
     "output_type": "stream",
     "text": [
      "WARNING:tensorflow:From c:\\Users\\Todd Howard\\AppData\\Local\\Programs\\Python\\Python39\\lib\\site-packages\\keras\\src\\losses.py:2976: The name tf.losses.sparse_softmax_cross_entropy is deprecated. Please use tf.compat.v1.losses.sparse_softmax_cross_entropy instead.\n",
      "\n"
     ]
    },
    {
     "name": "stderr",
     "output_type": "stream",
     "text": [
      "LOCAL_RANK: 0 - CUDA_VISIBLE_DEVICES: [0]\n",
      "\n",
      "  | Name         | Type    | Params\n",
      "-----------------------------------------\n",
      "0 | lstm1        | LSTM    | 855 K \n",
      "1 | lstm2        | LSTM    | 116 K \n",
      "2 | lstm3        | LSTM    | 29.4 K\n",
      "3 | hidden2class | Linear  | 2.1 K \n",
      "4 | activate     | Softmax | 0     \n",
      "5 | loss_f       | NLLLoss | 0     \n",
      "  | other params | n/a     | 2.0 K \n",
      "-----------------------------------------\n",
      "1.0 M     Trainable params\n",
      "2.0 K     Non-trainable params\n",
      "1.0 M     Total params\n",
      "4.019     Total estimated model params size (MB)\n"
     ]
    },
    {
     "data": {
      "application/vnd.jupyter.widget-view+json": {
       "model_id": "9f53a8aa43534892a3ec5bcb831b174b",
       "version_major": 2,
       "version_minor": 0
      },
      "text/plain": [
       "Sanity Checking: |          | 0/? [00:00<?, ?it/s]"
      ]
     },
     "metadata": {},
     "output_type": "display_data"
    },
    {
     "name": "stderr",
     "output_type": "stream",
     "text": [
      "c:\\Users\\Todd Howard\\AppData\\Local\\Programs\\Python\\Python39\\lib\\site-packages\\lightning\\pytorch\\trainer\\connectors\\data_connector.py:441: The 'val_dataloader' does not have many workers which may be a bottleneck. Consider increasing the value of the `num_workers` argument` to `num_workers=15` in the `DataLoader` to improve performance.\n",
      "c:\\Users\\Todd Howard\\AppData\\Local\\Programs\\Python\\Python39\\lib\\site-packages\\lightning\\pytorch\\trainer\\connectors\\data_connector.py:441: The 'train_dataloader' does not have many workers which may be a bottleneck. Consider increasing the value of the `num_workers` argument` to `num_workers=15` in the `DataLoader` to improve performance.\n"
     ]
    },
    {
     "data": {
      "application/vnd.jupyter.widget-view+json": {
       "model_id": "6ddc68be17ec499ea49c19c099ce81f7",
       "version_major": 2,
       "version_minor": 0
      },
      "text/plain": [
       "Training: |          | 0/? [00:00<?, ?it/s]"
      ]
     },
     "metadata": {},
     "output_type": "display_data"
    },
    {
     "data": {
      "application/vnd.jupyter.widget-view+json": {
       "model_id": "31c9536677904473a0803e06773fe81e",
       "version_major": 2,
       "version_minor": 0
      },
      "text/plain": [
       "Validation: |          | 0/? [00:00<?, ?it/s]"
      ]
     },
     "metadata": {},
     "output_type": "display_data"
    },
    {
     "data": {
      "application/vnd.jupyter.widget-view+json": {
       "model_id": "0ea1c91002d94c1bb7c72af87a42b212",
       "version_major": 2,
       "version_minor": 0
      },
      "text/plain": [
       "Validation: |          | 0/? [00:00<?, ?it/s]"
      ]
     },
     "metadata": {},
     "output_type": "display_data"
    },
    {
     "name": "stderr",
     "output_type": "stream",
     "text": [
      "c:\\Users\\Todd Howard\\AppData\\Local\\Programs\\Python\\Python39\\lib\\site-packages\\lightning\\pytorch\\trainer\\call.py:54: Detected KeyboardInterrupt, attempting graceful shutdown...\n"
     ]
    }
   ],
   "source": [
    "from lightning.pytorch.callbacks.early_stopping import EarlyStopping\n",
    "\n",
    "trainer = L.Trainer(max_epochs=epochs,\n",
    "                    #  callbacks=[EarlyStopping(monitor=\"val/loss\", mode=\"min\", patience=5)]\n",
    "                     )\n",
    "trainer.fit(clf, train_dataloader, val_dataloader)"
   ]
  },
  {
   "cell_type": "code",
   "execution_count": 24,
   "metadata": {},
   "outputs": [],
   "source": [
    "clf=clf.to(device)"
   ]
  },
  {
   "cell_type": "code",
   "execution_count": 25,
   "metadata": {},
   "outputs": [],
   "source": [
    "import os\n",
    "import sys\n",
    "sys.path.append(os.path.split(os.getcwd())[0])\n",
    "from utils.plot_utils import plot_matrix"
   ]
  },
  {
   "cell_type": "code",
   "execution_count": 26,
   "metadata": {},
   "outputs": [],
   "source": [
    "import time\n",
    "predictions = []\n",
    "labels = []\n",
    "time_taken = []\n",
    "for x,y, l in val_dataloader:\n",
    "    start = time.time()\n",
    "    predictions+= torch.argmax(clf(x,l), dim = 1).cpu().detach().numpy().tolist()\n",
    "    time_taken.append((time.time() - start) / x.shape[0])\n",
    "    labels += y.cpu().detach().numpy().tolist()"
   ]
  },
  {
   "cell_type": "code",
   "execution_count": null,
   "metadata": {},
   "outputs": [
    {
     "data": {
      "text/html": [
       "<div>\n",
       "<style scoped>\n",
       "    .dataframe tbody tr th:only-of-type {\n",
       "        vertical-align: middle;\n",
       "    }\n",
       "\n",
       "    .dataframe tbody tr th {\n",
       "        vertical-align: top;\n",
       "    }\n",
       "\n",
       "    .dataframe thead th {\n",
       "        text-align: right;\n",
       "    }\n",
       "</style>\n",
       "<table border=\"1\" class=\"dataframe\">\n",
       "  <thead>\n",
       "    <tr style=\"text-align: right;\">\n",
       "      <th></th>\n",
       "      <th>precision</th>\n",
       "      <th>recall</th>\n",
       "      <th>f1-score</th>\n",
       "      <th>support</th>\n",
       "    </tr>\n",
       "  </thead>\n",
       "  <tbody>\n",
       "    <tr>\n",
       "      <th>Lody i sorbety</th>\n",
       "      <td>0.000000</td>\n",
       "      <td>0.000000</td>\n",
       "      <td>0.000000</td>\n",
       "      <td>9.0</td>\n",
       "    </tr>\n",
       "    <tr>\n",
       "      <th>ciasta i torty</th>\n",
       "      <td>0.315559</td>\n",
       "      <td>0.339356</td>\n",
       "      <td>0.327025</td>\n",
       "      <td>1273.0</td>\n",
       "    </tr>\n",
       "    <tr>\n",
       "      <th>ciasteczka</th>\n",
       "      <td>0.241335</td>\n",
       "      <td>0.250000</td>\n",
       "      <td>0.245591</td>\n",
       "      <td>752.0</td>\n",
       "    </tr>\n",
       "    <tr>\n",
       "      <th>desery</th>\n",
       "      <td>0.204724</td>\n",
       "      <td>0.206349</td>\n",
       "      <td>0.205534</td>\n",
       "      <td>1260.0</td>\n",
       "    </tr>\n",
       "    <tr>\n",
       "      <th>desery domowe</th>\n",
       "      <td>1.000000</td>\n",
       "      <td>0.888889</td>\n",
       "      <td>0.941176</td>\n",
       "      <td>9.0</td>\n",
       "    </tr>\n",
       "    <tr>\n",
       "      <th>grill</th>\n",
       "      <td>0.108696</td>\n",
       "      <td>0.122951</td>\n",
       "      <td>0.115385</td>\n",
       "      <td>244.0</td>\n",
       "    </tr>\n",
       "    <tr>\n",
       "      <th>inne</th>\n",
       "      <td>0.400000</td>\n",
       "      <td>0.161491</td>\n",
       "      <td>0.230088</td>\n",
       "      <td>161.0</td>\n",
       "    </tr>\n",
       "    <tr>\n",
       "      <th>napoje i koktajle</th>\n",
       "      <td>0.566667</td>\n",
       "      <td>0.074890</td>\n",
       "      <td>0.132296</td>\n",
       "      <td>227.0</td>\n",
       "    </tr>\n",
       "    <tr>\n",
       "      <th>obiady</th>\n",
       "      <td>0.290568</td>\n",
       "      <td>0.341566</td>\n",
       "      <td>0.314010</td>\n",
       "      <td>1903.0</td>\n",
       "    </tr>\n",
       "    <tr>\n",
       "      <th>pieczywo</th>\n",
       "      <td>0.447368</td>\n",
       "      <td>0.386364</td>\n",
       "      <td>0.414634</td>\n",
       "      <td>44.0</td>\n",
       "    </tr>\n",
       "    <tr>\n",
       "      <th>przekąski</th>\n",
       "      <td>0.115435</td>\n",
       "      <td>0.116798</td>\n",
       "      <td>0.116112</td>\n",
       "      <td>762.0</td>\n",
       "    </tr>\n",
       "    <tr>\n",
       "      <th>przetwory</th>\n",
       "      <td>0.000000</td>\n",
       "      <td>0.000000</td>\n",
       "      <td>0.000000</td>\n",
       "      <td>387.0</td>\n",
       "    </tr>\n",
       "    <tr>\n",
       "      <th>sałatki i surówki</th>\n",
       "      <td>0.485364</td>\n",
       "      <td>0.564976</td>\n",
       "      <td>0.522153</td>\n",
       "      <td>1262.0</td>\n",
       "    </tr>\n",
       "    <tr>\n",
       "      <th>sosy</th>\n",
       "      <td>0.336538</td>\n",
       "      <td>0.205882</td>\n",
       "      <td>0.255474</td>\n",
       "      <td>340.0</td>\n",
       "    </tr>\n",
       "    <tr>\n",
       "      <th>zupy</th>\n",
       "      <td>0.283019</td>\n",
       "      <td>0.328836</td>\n",
       "      <td>0.304212</td>\n",
       "      <td>593.0</td>\n",
       "    </tr>\n",
       "    <tr>\n",
       "      <th>śniadanie</th>\n",
       "      <td>0.107843</td>\n",
       "      <td>0.115789</td>\n",
       "      <td>0.111675</td>\n",
       "      <td>190.0</td>\n",
       "    </tr>\n",
       "    <tr>\n",
       "      <th>macro avg</th>\n",
       "      <td>0.306445</td>\n",
       "      <td>0.256509</td>\n",
       "      <td>0.264710</td>\n",
       "      <td>9416.0</td>\n",
       "    </tr>\n",
       "    <tr>\n",
       "      <th>weighted avg</th>\n",
       "      <td>0.280965</td>\n",
       "      <td>0.288551</td>\n",
       "      <td>0.277759</td>\n",
       "      <td>9416.0</td>\n",
       "    </tr>\n",
       "  </tbody>\n",
       "</table>\n",
       "</div>"
      ],
      "text/plain": [
       "                   precision    recall  f1-score  support\n",
       "Lody i sorbety      0.000000  0.000000  0.000000      9.0\n",
       "ciasta i torty      0.315559  0.339356  0.327025   1273.0\n",
       "ciasteczka          0.241335  0.250000  0.245591    752.0\n",
       "desery              0.204724  0.206349  0.205534   1260.0\n",
       "desery domowe       1.000000  0.888889  0.941176      9.0\n",
       "grill               0.108696  0.122951  0.115385    244.0\n",
       "inne                0.400000  0.161491  0.230088    161.0\n",
       "napoje i koktajle   0.566667  0.074890  0.132296    227.0\n",
       "obiady              0.290568  0.341566  0.314010   1903.0\n",
       "pieczywo            0.447368  0.386364  0.414634     44.0\n",
       "przekąski           0.115435  0.116798  0.116112    762.0\n",
       "przetwory           0.000000  0.000000  0.000000    387.0\n",
       "sałatki i surówki   0.485364  0.564976  0.522153   1262.0\n",
       "sosy                0.336538  0.205882  0.255474    340.0\n",
       "zupy                0.283019  0.328836  0.304212    593.0\n",
       "śniadanie           0.107843  0.115789  0.111675    190.0\n",
       "macro avg           0.306445  0.256509  0.264710   9416.0\n",
       "weighted avg        0.280965  0.288551  0.277759   9416.0"
      ]
     },
     "execution_count": 26,
     "metadata": {},
     "output_type": "execute_result"
    }
   ],
   "source": [
    "from sklearn.metrics import classification_report\n",
    "\n",
    "report = classification_report(labels, predictions, output_dict = True, zero_division=0, target_names=enc.categories_[0])\n",
    "#report_df = pd.DataFrame.from_dict(report, orient='index')\n",
    "df = pd.DataFrame(report).transpose()\n",
    "df = df[df['support'] != 4.0]\n",
    "df = df.drop('accuracy')\n",
    "df.head(18)"
   ]
  },
  {
   "cell_type": "code",
   "execution_count": null,
   "metadata": {},
   "outputs": [
    {
     "data": {
      "image/png": "[encoded data removed]",
      "text/plain": [
       "<Figure size 800x600 with 2 Axes>"
      ]
     },
     "metadata": {},
     "output_type": "display_data"
    }
   ],
   "source": [
    "\n",
    "plot_matrix(labels = labels, preds=predictions, name = 'LSTM + sBERT')"
   ]
  }
 ],
 "metadata": {
  "kernelspec": {
   "display_name": "Python 3",
   "language": "python",
   "name": "python3"
  },
  "language_info": {
   "codemirror_mode": {
    "name": "ipython",
    "version": 3
   },
   "file_extension": ".py",
   "mimetype": "text/x-python",
   "name": "python",
   "nbconvert_exporter": "python",
   "pygments_lexer": "ipython3",
   "version": "3.9.13"
  }
 },
 "nbformat": 4,
 "nbformat_minor": 2
}
